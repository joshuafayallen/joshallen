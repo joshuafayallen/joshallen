{
  "cells": [
    {
      "cell_type": "raw",
      "metadata": {},
      "source": [
        "---\n",
        "title: Translating What I know in the tidyverse to python\n",
        "date: last-modified\n",
        "date-format: 'MMM D, YYYY'\n",
        "description: This is me learning the snake language\n",
        "categories:\n",
        "  - r\n",
        "  - tidyverse\n",
        "  - python\n",
        "  - polars\n",
        "---"
      ],
      "id": "7a922c6c"
    },
    {
      "cell_type": "markdown",
      "metadata": {},
      "source": [
        "I suppose at some point it is good to become more well versed in lots of tools. I have been python curious for about a year or so and I think it is important to use the tool best suited for the task. Also sometimes it is important to get out of your comfort zone. I am definitely somebody who is very comfortable in R and the `tidyverse` and use it for a lot of stuff. I have heard lots of ravings about polars specifically about its speed and similarities in intuition with the tidyverse. So I thought I would have a collection of code for myself and the people of the internet to reference. \n",
        "\n",
        "\n",
        "Just a disclaimer. This is really just me working through the similarities and is going to be based on the [tidyintelligence's blog post](https://blog.tidy-intelligence.com/posts/dplyr-vs-polars/), [Robert Mitchell's blog post](https://robertmitchellv.com/blog/2022-07-r-python-side-by-side/r-python-side-by-side.html), and [Emily Rieder's blog post](https://www.emilyriederer.com/post/py-rgo-polars/). In all honesty this is just for me to smash them together to have a one stop shop for myself. If you found this post over these resources I highly recommend you checking out these resources. \n",
        "\n",
        "\n",
        "\n",
        "## The Basics \n",
        "\n",
        "As always we should load in the respected packages we are going to use. as \n",
        "\n",
        "\n",
        "\n",
        "\n",
        "\n",
        ":::{layout = \"[[1,1]]\"}\n",
        "## R \n",
        "\n",
        "\n",
        "```{r}\n",
        "library(tidyverse)\n",
        "\n",
        "penguins = read_csv(\"penguins.csv\")\n",
        "\n",
        "```\n",
        "\n",
        "\n",
        "\n",
        "## Python \n"
      ],
      "id": "aa905fe4"
    },
    {
      "cell_type": "code",
      "metadata": {},
      "source": [
        "import polars as pl\n",
        "import polars.selectors as cs\n",
        "\n",
        "penguins = pl.read_csv(\"penguins.csv\")\n"
      ],
      "id": "edf4c0d1",
      "execution_count": null,
      "outputs": []
    },
    {
      "cell_type": "markdown",
      "metadata": {},
      "source": [
        ":::"
      ],
      "id": "94b84ae6"
    }
  ],
  "metadata": {
    "kernelspec": {
      "name": "python3",
      "language": "python",
      "display_name": "Python 3 (ipykernel)"
    }
  },
  "nbformat": 4,
  "nbformat_minor": 5
}